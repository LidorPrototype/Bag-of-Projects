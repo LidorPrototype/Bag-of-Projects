{
 "cells": [
  {
   "cell_type": "code",
   "execution_count": 4,
   "metadata": {
    "vscode": {
     "languageId": "powershell"
    }
   },
   "outputs": [
    {
     "name": "stderr",
     "output_type": "stream",
     "text": [
      "WARNING: You are using pip version 21.2.3; however, version 23.2.1 is available.\n",
      "You should consider upgrading via the 'C:\\Users\\Lidor\\AppData\\Local\\Programs\\Python\\Python39\\python.exe -m pip install --upgrade pip' command.\n"
     ]
    }
   ],
   "source": [
    "!pip install -q openpyxl"
   ]
  },
  {
   "cell_type": "code",
   "execution_count": 1,
   "metadata": {},
   "outputs": [],
   "source": [
    "%matplotlib inline\n",
    "import pandas as pd\n",
    "import numpy as np\n",
    "from sklearn.preprocessing import StandardScaler # Standardizing the Data\n",
    "from sklearn.decomposition import PCA # PCA calculation\n",
    "import matplotlib.pyplot as plt"
   ]
  },
  {
   "cell_type": "code",
   "execution_count": 2,
   "metadata": {},
   "outputs": [],
   "source": [
    "# Dataset is big, so we will download it via code\n",
    "# The alibaba cluster trace link was changed and they didnt updated it so I had to find an alternative\n",
    "dataset_link = \"https://raw.githubusercontent.com/ansjin/blogs/master/Dimensionality%20Reduction/m_1.xlsx\"\n",
    "# Original data came from here: https://github.com/alibaba/clusterdata/tree/master/cluster-trace-v2018"
   ]
  },
  {
   "cell_type": "code",
   "execution_count": 6,
   "metadata": {},
   "outputs": [
    {
     "data": {
      "text/html": [
       "<div>\n",
       "<style scoped>\n",
       "    .dataframe tbody tr th:only-of-type {\n",
       "        vertical-align: middle;\n",
       "    }\n",
       "\n",
       "    .dataframe tbody tr th {\n",
       "        vertical-align: top;\n",
       "    }\n",
       "\n",
       "    .dataframe thead th {\n",
       "        text-align: right;\n",
       "    }\n",
       "</style>\n",
       "<table border=\"1\" class=\"dataframe\">\n",
       "  <thead>\n",
       "    <tr style=\"text-align: right;\">\n",
       "      <th></th>\n",
       "      <th>cpu_util_percent</th>\n",
       "      <th>mem_util_percent</th>\n",
       "      <th>mem_gps</th>\n",
       "      <th>mkpi</th>\n",
       "      <th>net_in</th>\n",
       "      <th>net_out</th>\n",
       "      <th>disk_io_percent</th>\n",
       "    </tr>\n",
       "    <tr>\n",
       "      <th>timestamp</th>\n",
       "      <th></th>\n",
       "      <th></th>\n",
       "      <th></th>\n",
       "      <th></th>\n",
       "      <th></th>\n",
       "      <th></th>\n",
       "      <th></th>\n",
       "    </tr>\n",
       "  </thead>\n",
       "  <tbody>\n",
       "    <tr>\n",
       "      <th>2011-05-01 12:00:10</th>\n",
       "      <td>13</td>\n",
       "      <td>84</td>\n",
       "      <td>0.0</td>\n",
       "      <td>0.0</td>\n",
       "      <td>32.46</td>\n",
       "      <td>23.09</td>\n",
       "      <td>1</td>\n",
       "    </tr>\n",
       "    <tr>\n",
       "      <th>2011-05-01 12:00:20</th>\n",
       "      <td>10</td>\n",
       "      <td>84</td>\n",
       "      <td>0.0</td>\n",
       "      <td>0.0</td>\n",
       "      <td>32.46</td>\n",
       "      <td>23.09</td>\n",
       "      <td>1</td>\n",
       "    </tr>\n",
       "    <tr>\n",
       "      <th>2011-05-01 12:00:30</th>\n",
       "      <td>11</td>\n",
       "      <td>84</td>\n",
       "      <td>0.0</td>\n",
       "      <td>0.0</td>\n",
       "      <td>32.46</td>\n",
       "      <td>23.09</td>\n",
       "      <td>1</td>\n",
       "    </tr>\n",
       "    <tr>\n",
       "      <th>2011-05-01 12:00:40</th>\n",
       "      <td>12</td>\n",
       "      <td>84</td>\n",
       "      <td>0.0</td>\n",
       "      <td>0.0</td>\n",
       "      <td>32.46</td>\n",
       "      <td>23.09</td>\n",
       "      <td>1</td>\n",
       "    </tr>\n",
       "    <tr>\n",
       "      <th>2011-05-01 12:00:50</th>\n",
       "      <td>12</td>\n",
       "      <td>84</td>\n",
       "      <td>0.0</td>\n",
       "      <td>0.0</td>\n",
       "      <td>32.46</td>\n",
       "      <td>23.09</td>\n",
       "      <td>1</td>\n",
       "    </tr>\n",
       "  </tbody>\n",
       "</table>\n",
       "</div>"
      ],
      "text/plain": [
       "                     cpu_util_percent  mem_util_percent  mem_gps  mkpi  \\\n",
       "timestamp                                                                \n",
       "2011-05-01 12:00:10                13                84      0.0   0.0   \n",
       "2011-05-01 12:00:20                10                84      0.0   0.0   \n",
       "2011-05-01 12:00:30                11                84      0.0   0.0   \n",
       "2011-05-01 12:00:40                12                84      0.0   0.0   \n",
       "2011-05-01 12:00:50                12                84      0.0   0.0   \n",
       "\n",
       "                     net_in  net_out  disk_io_percent  \n",
       "timestamp                                              \n",
       "2011-05-01 12:00:10   32.46    23.09                1  \n",
       "2011-05-01 12:00:20   32.46    23.09                1  \n",
       "2011-05-01 12:00:30   32.46    23.09                1  \n",
       "2011-05-01 12:00:40   32.46    23.09                1  \n",
       "2011-05-01 12:00:50   32.46    23.09                1  "
      ]
     },
     "execution_count": 6,
     "metadata": {},
     "output_type": "execute_result"
    }
   ],
   "source": [
    "df = pd.read_excel(dataset_link, index_col = 0)\n",
    "df.drop('machine_id', axis = 1, inplace = True)\n",
    "df = df.fillna(0)\n",
    "df.head()"
   ]
  },
  {
   "cell_type": "code",
   "execution_count": 7,
   "metadata": {},
   "outputs": [],
   "source": [
    "X = df.values\n",
    "sc = StandardScaler()\n",
    "X_std = sc.fit_transform(X)"
   ]
  },
  {
   "cell_type": "code",
   "execution_count": 8,
   "metadata": {},
   "outputs": [],
   "source": [
    "pca = PCA()\n",
    "X_pca = pca.fit(X_std)"
   ]
  },
  {
   "cell_type": "code",
   "execution_count": 15,
   "metadata": {},
   "outputs": [
    {
     "data": {
      "text/plain": [
       "array([4.92506976e-01, 2.94154209e-01, 1.15627304e-01, 9.76441180e-02,\n",
       "       6.73930028e-05, 2.22604529e-34, 4.65806411e-36])"
      ]
     },
     "execution_count": 15,
     "metadata": {},
     "output_type": "execute_result"
    }
   ],
   "source": [
    "pca.explained_variance_ratio_\n",
    "# pca.components_\n",
    "# pca.explained_variance_"
   ]
  },
  {
   "cell_type": "code",
   "execution_count": 17,
   "metadata": {},
   "outputs": [
    {
     "data": {
      "image/png": "[encoded data removed]",
      "text/plain": [
       "<Figure size 640x480 with 1 Axes>"
      ]
     },
     "metadata": {},
     "output_type": "display_data"
    }
   ],
   "source": [
    "plt.plot(np.cumsum(pca.explained_variance_ratio_))\n",
    "plt.xlabel('Num of components')\n",
    "plt.ylabel('Cumulative explained variance')\n",
    "plt.show()"
   ]
  },
  {
   "cell_type": "code",
   "execution_count": 18,
   "metadata": {},
   "outputs": [],
   "source": [
    "num_components = 4\n",
    "pca = PCA(num_components)  \n",
    "X_pca = pca.fit_transform(X_std)"
   ]
  },
  {
   "cell_type": "code",
   "execution_count": 19,
   "metadata": {},
   "outputs": [
    {
     "data": {
      "text/html": [
       "<div>\n",
       "<style scoped>\n",
       "    .dataframe tbody tr th:only-of-type {\n",
       "        vertical-align: middle;\n",
       "    }\n",
       "\n",
       "    .dataframe tbody tr th {\n",
       "        vertical-align: top;\n",
       "    }\n",
       "\n",
       "    .dataframe thead th {\n",
       "        text-align: right;\n",
       "    }\n",
       "</style>\n",
       "<table border=\"1\" class=\"dataframe\">\n",
       "  <thead>\n",
       "    <tr style=\"text-align: right;\">\n",
       "      <th></th>\n",
       "      <th>cpu_util_percent</th>\n",
       "      <th>mem_util_percent</th>\n",
       "      <th>mem_gps</th>\n",
       "      <th>mkpi</th>\n",
       "      <th>net_in</th>\n",
       "      <th>net_out</th>\n",
       "      <th>disk_io_percent</th>\n",
       "    </tr>\n",
       "  </thead>\n",
       "  <tbody>\n",
       "    <tr>\n",
       "      <th>0</th>\n",
       "      <td>-0.118573</td>\n",
       "      <td>-0.478128</td>\n",
       "      <td>0.000000e+00</td>\n",
       "      <td>1.387779e-17</td>\n",
       "      <td>-0.607107</td>\n",
       "      <td>-0.606225</td>\n",
       "      <td>-0.145762</td>\n",
       "    </tr>\n",
       "    <tr>\n",
       "      <th>1</th>\n",
       "      <td>0.699157</td>\n",
       "      <td>-0.013101</td>\n",
       "      <td>-0.000000e+00</td>\n",
       "      <td>-0.000000e+00</td>\n",
       "      <td>-0.143500</td>\n",
       "      <td>-0.147322</td>\n",
       "      <td>0.684626</td>\n",
       "    </tr>\n",
       "    <tr>\n",
       "      <th>2</th>\n",
       "      <td>-0.203818</td>\n",
       "      <td>-0.818723</td>\n",
       "      <td>-6.938894e-17</td>\n",
       "      <td>1.110223e-16</td>\n",
       "      <td>0.302247</td>\n",
       "      <td>0.305581</td>\n",
       "      <td>0.321585</td>\n",
       "    </tr>\n",
       "    <tr>\n",
       "      <th>3</th>\n",
       "      <td>-0.674959</td>\n",
       "      <td>0.317664</td>\n",
       "      <td>2.775558e-17</td>\n",
       "      <td>-2.775558e-17</td>\n",
       "      <td>-0.136464</td>\n",
       "      <td>-0.135183</td>\n",
       "      <td>0.637670</td>\n",
       "    </tr>\n",
       "  </tbody>\n",
       "</table>\n",
       "</div>"
      ],
      "text/plain": [
       "   cpu_util_percent  mem_util_percent       mem_gps          mkpi    net_in  \\\n",
       "0         -0.118573         -0.478128  0.000000e+00  1.387779e-17 -0.607107   \n",
       "1          0.699157         -0.013101 -0.000000e+00 -0.000000e+00 -0.143500   \n",
       "2         -0.203818         -0.818723 -6.938894e-17  1.110223e-16  0.302247   \n",
       "3         -0.674959          0.317664  2.775558e-17 -2.775558e-17 -0.136464   \n",
       "\n",
       "    net_out  disk_io_percent  \n",
       "0 -0.606225        -0.145762  \n",
       "1 -0.147322         0.684626  \n",
       "2  0.305581         0.321585  \n",
       "3 -0.135183         0.637670  "
      ]
     },
     "execution_count": 19,
     "metadata": {},
     "output_type": "execute_result"
    }
   ],
   "source": [
    "pd.DataFrame(pca.components_, columns = df.columns)"
   ]
  },
  {
   "cell_type": "code",
   "execution_count": 20,
   "metadata": {},
   "outputs": [],
   "source": [
    "n_pcs = pca.n_components_\n",
    "# Retrieve the index of the most important feature of each component\n",
    "most_important = [np.abs(pca.components_[i]).argmax() for i in range(n_pcs)]\n",
    "initial_feature_names = df.columns\n",
    "# Retrieve the most important feature names\n",
    "most_important_names = [initial_feature_names[most_important[i]] for i in range(n_pcs)]"
   ]
  },
  {
   "cell_type": "code",
   "execution_count": 21,
   "metadata": {},
   "outputs": [
    {
     "data": {
      "text/plain": [
       "['net_in', 'cpu_util_percent', 'mem_util_percent', 'cpu_util_percent']"
      ]
     },
     "execution_count": 21,
     "metadata": {},
     "output_type": "execute_result"
    }
   ],
   "source": [
    "most_important_names"
   ]
  },
  {
   "cell_type": "code",
   "execution_count": null,
   "metadata": {},
   "outputs": [],
   "source": []
  }
 ],
 "metadata": {
  "kernelspec": {
   "display_name": "Python 3",
   "language": "python",
   "name": "python3"
  },
  "language_info": {
   "codemirror_mode": {
    "name": "ipython",
    "version": 3
   },
   "file_extension": ".py",
   "mimetype": "text/x-python",
   "name": "python",
   "nbconvert_exporter": "python",
   "pygments_lexer": "ipython3",
   "version": "3.9.7"
  },
  "orig_nbformat": 4
 },
 "nbformat": 4,
 "nbformat_minor": 2
}

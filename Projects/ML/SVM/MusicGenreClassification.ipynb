{
 "cells": [
  {
   "cell_type": "code",
   "execution_count": 1,
   "metadata": {},
   "outputs": [],
   "source": [
    "import pandas as pd\n",
    "import numpy as np\n",
    "\n",
    "from sklearn import preprocessing\n",
    "from sklearn.svm import SVC\n",
    "from sklearn.model_selection import train_test_split\n",
    "from sklearn.metrics import accuracy_score, classification_report\n",
    "\n",
    "import warnings\n",
    "warnings.filterwarnings('ignore')"
   ]
  },
  {
   "cell_type": "code",
   "execution_count": 2,
   "metadata": {},
   "outputs": [],
   "source": [
    "data = pd.read_csv(\"GTZAN/features_3_sec.csv\")"
   ]
  },
  {
   "cell_type": "code",
   "execution_count": 3,
   "metadata": {},
   "outputs": [],
   "source": [
    "index_label = dict()\n",
    "label_index = dict()\n",
    "for idx, lbl in enumerate(data.label.unique()):\n",
    "    label_index[lbl] = idx\n",
    "    index_label[idx] = lbl\n",
    "data.label = [label_index[i] for i in data.label]\n",
    "data = data.sample(frac = 1, random_state = 12).reset_index(drop = True)\n",
    "data = data.iloc[0:, 1:]"
   ]
  },
  {
   "cell_type": "code",
   "execution_count": 4,
   "metadata": {},
   "outputs": [],
   "source": [
    "y = data['label'] \n",
    "X = data.loc[:, data.columns != 'label']\n",
    "features = X\n",
    "labels = y\n",
    "labels = np.array(labels).reshape(9990)\n",
    "cols = X.columns\n",
    "min_max_scaler = preprocessing.MinMaxScaler()\n",
    "np_scaled = min_max_scaler.fit_transform(X)\n",
    "X = pd.DataFrame(np_scaled, columns = cols)\n",
    "min_max_scaler = preprocessing.MinMaxScaler()\n",
    "features_scaled = min_max_scaler.fit_transform(features)\n",
    "features_scaled = pd.DataFrame(features_scaled, columns = features.columns)"
   ]
  },
  {
   "cell_type": "markdown",
   "metadata": {},
   "source": [
    "___\n",
    "Regular"
   ]
  },
  {
   "cell_type": "code",
   "execution_count": 5,
   "metadata": {},
   "outputs": [],
   "source": [
    "X_train, X_test, y_train, y_test = train_test_split(X, y, test_size = 0.2, random_state = 42)"
   ]
  },
  {
   "cell_type": "code",
   "execution_count": 6,
   "metadata": {},
   "outputs": [],
   "source": [
    "best_model_ema = SVC(C = 200, kernel = 'rbf', random_state = 0, gamma = 4)"
   ]
  },
  {
   "cell_type": "code",
   "execution_count": 7,
   "metadata": {},
   "outputs": [
    {
     "name": "stdout",
     "output_type": "stream",
     "text": [
      "Accuracy Best SVM rbf kernel c = 200 gamma = 4 is: 94.24\n",
      "\n",
      "              precision    recall  f1-score   support\n",
      "\n",
      "           0       0.95      0.94      0.95       214\n",
      "           1       0.93      0.98      0.95       191\n",
      "           2       0.91      0.93      0.92       216\n",
      "           3       0.93      0.97      0.95       192\n",
      "           4       0.96      0.96      0.96       187\n",
      "           5       0.92      0.94      0.93       198\n",
      "           6       0.99      0.95      0.97       185\n",
      "           7       0.97      0.93      0.95       211\n",
      "           8       0.96      0.95      0.95       204\n",
      "           9       0.93      0.87      0.90       200\n",
      "\n",
      "    accuracy                           0.94      1998\n",
      "   macro avg       0.94      0.94      0.94      1998\n",
      "weighted avg       0.94      0.94      0.94      1998\n",
      "\n"
     ]
    }
   ],
   "source": [
    "best_model_ema.fit(X_train, y_train)\n",
    "preds = best_model_ema.predict(X_test)\n",
    "print(f\"Accuracy Best SVM rbf kernel c = 200 gamma = 4 is: {round(accuracy_score(y_test, preds), 4) * 100}\\n\")\n",
    "classificationReport = classification_report(y_test, preds)\n",
    "print(classificationReport)"
   ]
  },
  {
   "cell_type": "markdown",
   "metadata": {},
   "source": [
    "___\n",
    "Scaled"
   ]
  },
  {
   "cell_type": "code",
   "execution_count": 10,
   "metadata": {},
   "outputs": [],
   "source": [
    "X_train_scaled, X_test_scaled, y_train_scaled, y_test_scaled = train_test_split(features_scaled, labels, test_size = 0.2, random_state = 42)"
   ]
  },
  {
   "cell_type": "code",
   "execution_count": 11,
   "metadata": {},
   "outputs": [],
   "source": [
    "best_model_ema_scaled = SVC(C = 200, kernel = 'rbf', random_state = 0, gamma = 4)"
   ]
  },
  {
   "cell_type": "code",
   "execution_count": 12,
   "metadata": {},
   "outputs": [
    {
     "name": "stdout",
     "output_type": "stream",
     "text": [
      "Accuracy Best SVM rbf kernel c = 200 gamma = 4 is: 94.24\n",
      "\n",
      "              precision    recall  f1-score   support\n",
      "\n",
      "           0       0.95      0.94      0.95       214\n",
      "           1       0.93      0.98      0.95       191\n",
      "           2       0.91      0.93      0.92       216\n",
      "           3       0.93      0.97      0.95       192\n",
      "           4       0.96      0.96      0.96       187\n",
      "           5       0.92      0.94      0.93       198\n",
      "           6       0.99      0.95      0.97       185\n",
      "           7       0.97      0.93      0.95       211\n",
      "           8       0.96      0.95      0.95       204\n",
      "           9       0.93      0.87      0.90       200\n",
      "\n",
      "    accuracy                           0.94      1998\n",
      "   macro avg       0.94      0.94      0.94      1998\n",
      "weighted avg       0.94      0.94      0.94      1998\n",
      "\n"
     ]
    }
   ],
   "source": [
    "best_model_ema_scaled.fit(X_train_scaled, y_train_scaled)\n",
    "preds_scaled = best_model_ema_scaled.predict(X_test_scaled)\n",
    "print(f\"Accuracy Best SVM rbf kernel c = 200 gamma = 4 is: {round(accuracy_score(y_test_scaled, preds_scaled), 4) * 100}\\n\")\n",
    "classificationReport = classification_report(y_test_scaled, preds_scaled)\n",
    "print(classificationReport)"
   ]
  },
  {
   "cell_type": "code",
   "execution_count": null,
   "metadata": {},
   "outputs": [],
   "source": []
  }
 ],
 "metadata": {
  "kernelspec": {
   "display_name": "Python 3",
   "language": "python",
   "name": "python3"
  },
  "language_info": {
   "codemirror_mode": {
    "name": "ipython",
    "version": 3
   },
   "file_extension": ".py",
   "mimetype": "text/x-python",
   "name": "python",
   "nbconvert_exporter": "python",
   "pygments_lexer": "ipython3",
   "version": "3.9.7"
  },
  "orig_nbformat": 4
 },
 "nbformat": 4,
 "nbformat_minor": 2
}

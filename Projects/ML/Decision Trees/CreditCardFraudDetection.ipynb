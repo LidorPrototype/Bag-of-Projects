{
 "cells": [
  {
   "cell_type": "code",
   "execution_count": 1,
   "metadata": {},
   "outputs": [],
   "source": [
    "import numpy as np\n",
    "import pandas as pd\n",
    "import scipy as sp\n",
    "from sklearn.model_selection import train_test_split\n",
    "from sklearn.tree import DecisionTreeClassifier\n",
    "from sklearn import metrics\n",
    "from sklearn.metrics import precision_score\n",
    "from sklearn.metrics import recall_score\n",
    "from sklearn.metrics import f1_score"
   ]
  },
  {
   "cell_type": "code",
   "execution_count": 3,
   "metadata": {},
   "outputs": [
    {
     "data": {
      "text/plain": [
       "(   Time        V1        V2        V3        V4        V5        V6        V7  \\\n",
       " 0   0.0 -1.359807 -0.072781  2.536347  1.378155 -0.338321  0.462388  0.239599   \n",
       " 1   0.0  1.191857  0.266151  0.166480  0.448154  0.060018 -0.082361 -0.078803   \n",
       " 2   1.0 -1.358354 -1.340163  1.773209  0.379780 -0.503198  1.800499  0.791461   \n",
       " 3   1.0 -0.966272 -0.185226  1.792993 -0.863291 -0.010309  1.247203  0.237609   \n",
       " 4   2.0 -1.158233  0.877737  1.548718  0.403034 -0.407193  0.095921  0.592941   \n",
       " \n",
       "          V8        V9  ...       V21       V22       V23       V24       V25  \\\n",
       " 0  0.098698  0.363787  ... -0.018307  0.277838 -0.110474  0.066928  0.128539   \n",
       " 1  0.085102 -0.255425  ... -0.225775 -0.638672  0.101288 -0.339846  0.167170   \n",
       " 2  0.247676 -1.514654  ...  0.247998  0.771679  0.909412 -0.689281 -0.327642   \n",
       " 3  0.377436 -1.387024  ... -0.108300  0.005274 -0.190321 -1.175575  0.647376   \n",
       " 4 -0.270533  0.817739  ... -0.009431  0.798278 -0.137458  0.141267 -0.206010   \n",
       " \n",
       "         V26       V27       V28  Amount  Class  \n",
       " 0 -0.189115  0.133558 -0.021053  149.62      0  \n",
       " 1  0.125895 -0.008983  0.014724    2.69      0  \n",
       " 2 -0.139097 -0.055353 -0.059752  378.66      0  \n",
       " 3 -0.221929  0.062723  0.061458  123.50      0  \n",
       " 4  0.502292  0.219422  0.215153   69.99      0  \n",
       " \n",
       " [5 rows x 31 columns],\n",
       " (284807, 31))"
      ]
     },
     "execution_count": 3,
     "metadata": {},
     "output_type": "execute_result"
    }
   ],
   "source": [
    "datainput = pd.read_csv('creditcard.csv')\n",
    "datainput.head(), datainput.shape"
   ]
  },
  {
   "cell_type": "code",
   "execution_count": 7,
   "metadata": {},
   "outputs": [
    {
     "name": "stdout",
     "output_type": "stream",
     "text": [
      "0.0017304750013189597\n",
      "False Detection : 492\n",
      "True Detection: 284315 \n",
      "\n"
     ]
    }
   ],
   "source": [
    "false = datainput[datainput['Class'] == 1]\n",
    "true = datainput[datainput['Class'] == 0]\n",
    "n = len(false) / float(len(true))\n",
    "print(n)\n",
    "print('False Detection : {}'.format(len(datainput[datainput['Class'] == 1])))\n",
    "print('True Detection: {}'.format(len(datainput[datainput['Class'] == 0])), \"\\n\")"
   ]
  },
  {
   "cell_type": "code",
   "execution_count": 9,
   "metadata": {},
   "outputs": [
    {
     "data": {
      "text/plain": [
       "0    99.827251\n",
       "1     0.172749\n",
       "Name: Class, dtype: float64"
      ]
     },
     "execution_count": 9,
     "metadata": {},
     "output_type": "execute_result"
    }
   ],
   "source": [
    "datainput['Class'].value_counts(normalize=True) * 100"
   ]
  },
  {
   "cell_type": "code",
   "execution_count": 13,
   "metadata": {},
   "outputs": [
    {
     "name": "stdout",
     "output_type": "stream",
     "text": [
      "(284807, 30)\n",
      "----------------------\n",
      "(284807,)\n"
     ]
    }
   ],
   "source": [
    "# Select all but last column\n",
    "data = datainput.iloc[:, :-1].values\n",
    "# Select last column\n",
    "result = datainput.iloc[:, -1].values\n",
    "print(data.shape)\n",
    "print('----------------------')\n",
    "print(result.shape)"
   ]
  },
  {
   "cell_type": "code",
   "execution_count": 14,
   "metadata": {},
   "outputs": [],
   "source": [
    "X_train, X_test, Y_train, Y_test= train_test_split(data, result, test_size = 0.3)"
   ]
  },
  {
   "cell_type": "code",
   "execution_count": 15,
   "metadata": {},
   "outputs": [
    {
     "name": "stdout",
     "output_type": "stream",
     "text": [
      "\n",
      " Predicted value:\n",
      " [0 0 0 ... 0 0 0]\n"
     ]
    }
   ],
   "source": [
    "classifier = DecisionTreeClassifier(max_depth = 4)\n",
    "classifier.fit(X_train, Y_train)\n",
    "predicted = classifier.predict(X_test)\n",
    "\n",
    "print(\"\\n Predicted value:\\n \", predicted)\n"
   ]
  },
  {
   "cell_type": "code",
   "execution_count": 25,
   "metadata": {},
   "outputs": [
    {
     "data": {
      "text/plain": [
       "({0, 1}, 85443)"
      ]
     },
     "execution_count": 25,
     "metadata": {},
     "output_type": "execute_result"
    }
   ],
   "source": [
    "set(predicted), len(predicted)"
   ]
  },
  {
   "cell_type": "code",
   "execution_count": 17,
   "metadata": {},
   "outputs": [
    {
     "name": "stdout",
     "output_type": "stream",
     "text": [
      "Accuracy:  0.9992743700478681\n"
     ]
    }
   ],
   "source": [
    "accuracy = metrics.accuracy_score(Y_test, predicted)\n",
    "print(\"Accuracy: \", accuracy)"
   ]
  },
  {
   "cell_type": "code",
   "execution_count": 18,
   "metadata": {},
   "outputs": [
    {
     "name": "stdout",
     "output_type": "stream",
     "text": [
      "Precision :  0.8535031847133758\n",
      "Recall :  0.7745664739884393\n",
      "F1 :  0.8121212121212121\n"
     ]
    }
   ],
   "source": [
    "precision = precision_score(Y_test, predicted, pos_label = 1)\n",
    "recall = recall_score(Y_test, predicted, pos_label = 1)\n",
    "fscore = f1_score(Y_test, predicted, pos_label = 1)\n",
    "\n",
    "print('Precision : ',precision )\n",
    "print(\"Recall : \", recall)\n",
    "print(\"F1 : \", fscore)"
   ]
  },
  {
   "cell_type": "code",
   "execution_count": null,
   "metadata": {},
   "outputs": [],
   "source": []
  }
 ],
 "metadata": {
  "kernelspec": {
   "display_name": "Python 3",
   "language": "python",
   "name": "python3"
  },
  "language_info": {
   "codemirror_mode": {
    "name": "ipython",
    "version": 3
   },
   "file_extension": ".py",
   "mimetype": "text/x-python",
   "name": "python",
   "nbconvert_exporter": "python",
   "pygments_lexer": "ipython3",
   "version": "3.9.7"
  },
  "orig_nbformat": 4
 },
 "nbformat": 4,
 "nbformat_minor": 2
}
